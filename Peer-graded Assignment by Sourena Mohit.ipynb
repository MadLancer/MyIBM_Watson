{
    "cells": [
        {
            "cell_type": "markdown",
            "metadata": {
                "collapsed": true
            },
            "source": "My Jupyter Notebook on IBM Watson Studio\n======"
        },
        {
            "cell_type": "markdown",
            "metadata": {},
            "source": "My name is **Sourena Mohit** .\n\nI would like to become a data scientist in the near future."
        },
        {
            "cell_type": "markdown",
            "metadata": {},
            "source": "*I am interested in data science because i believe in our future world ,data,will be power and the knowledge of manipulating the data is necessary.*\n*There was a time that the programming languages were new to the world , but today if someone doesn't know anything about them , he or she is considering as an illiterate.*"
        },
        {
            "cell_type": "markdown",
            "metadata": {},
            "source": "### Python Program to find area of a circle ( for example : circle with 5cm radius) using inbuild library (math)"
        },
        {
            "cell_type": "code",
            "execution_count": 6,
            "metadata": {},
            "outputs": [
                {
                    "name": "stdout",
                    "output_type": "stream",
                    "text": "If the circle radius is 5 cm so : \n\nArea of circle is: 78.53981633974483\n"
                }
            ],
            "source": "# Python program to find Area of a circle using inbuild library\nimport math\ndef area(r):\n    area= math.pi* pow(r,2)\n    return print('Area of circle is:' ,area)\n\nprint(\"If the circle radius is 5 cm so : \\n\")\narea(5)"
        },
        {
            "cell_type": "markdown",
            "metadata": {},
            "source": "+ Various educational links for circle area calculation\n  1. **_The link of_** : [Area of a Circle by CUEMATH](https://www.cuemath.com/geometry/area-of-a-circle/)  \n  2. **_Area of a Circle Calculator:_** [Area of a Circle Calculator link is here](https://www.omnicalculator.com/math/area-of-a-circle \"Calculator\")\n  \n  \n+ Top 6 Data Scientist Skills Required in 2023\n  1.  Programming\n  2. \u00a0Knowledge of SAS and Other Analytical Tools\n  3.  Adept at Working with Unstructured Data\n  4.  A Strong Business Acumen\n  5.  Strong Communication Skills\n  6.  Great Data Intuition\n  \n ![](https://web-assets.domo.com/blog/wp-content/uploads/2016/08/16-blog-quote-data-storytelling-1-1024x512.png)"
        }
    ],
    "metadata": {
        "kernelspec": {
            "display_name": "Python 3.9",
            "language": "python",
            "name": "python3"
        },
        "language_info": {
            "codemirror_mode": {
                "name": "ipython",
                "version": 3
            },
            "file_extension": ".py",
            "mimetype": "text/x-python",
            "name": "python",
            "nbconvert_exporter": "python",
            "pygments_lexer": "ipython3",
            "version": "3.9.13"
        }
    },
    "nbformat": 4,
    "nbformat_minor": 1
}